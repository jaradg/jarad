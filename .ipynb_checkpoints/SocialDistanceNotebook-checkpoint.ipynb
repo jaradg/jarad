{
 "cells": [
  {
   "cell_type": "markdown",
   "metadata": {},
   "source": [
    "# Data 100 Project Spring 2020\n",
    "## Analyzing the Impact of Social Distancing Policies\n",
    "\n",
    "This notebook outlines the data cleaning, analysis, and visualizations associated with this part of the project."
   ]
  },
  {
   "cell_type": "code",
   "execution_count": 1,
   "metadata": {},
   "outputs": [],
   "source": [
    "import numpy as np\n",
    "import pandas as pd\n",
    "from datetime import date\n",
    "from datetime import datetime\n",
    "\n",
    "import matplotlib.pyplot as plt\n",
    "%matplotlib inline\n",
    "\n",
    "import seaborn as sns\n",
    "sns.set(style = \"whitegrid\", \n",
    "        color_codes = True,\n",
    "        font_scale = 1.5)"
   ]
  },
  {
   "cell_type": "markdown",
   "metadata": {},
   "source": [
    "In this part of the project, we are looking at the impact that social distancing policies have had on the spread of  the coronovirus SARS-CoV-2 in the United States. By analyzing when different social distance policies were implemented, we hope to identify if there is an observable difference in confirmed COVID-19 cases among states that responded differently at the policy level to the outbreak. We hope to shed light on not only the importance of social distancing policies but also how responding quickly and decisively can drastically impact the spread of the virus. "
   ]
  },
  {
   "cell_type": "markdown",
   "metadata": {},
   "source": [
    "## Importing the Data"
   ]
  },
  {
   "cell_type": "markdown",
   "metadata": {},
   "source": [
    "`states_data`: features by state such as total deaths, confirmed cases, etc. \n",
    "\n",
    "`states_cases`: time series of cases by state.\n",
    "\n",
    "`abridged_counties`: county level data with information on demographics and social distancing policies. "
   ]
  },
  {
   "cell_type": "code",
   "execution_count": 2,
   "metadata": {},
   "outputs": [],
   "source": [
    "states_data = pd.read_csv(\"5.08states.csv\") \n",
    "states_cases = pd.read_csv('us-states.csv')\n",
    "abridged_counties = pd.read_csv(\"abridged_couties.csv\")"
   ]
  },
  {
   "cell_type": "markdown",
   "metadata": {},
   "source": [
    "## Data Cleaning & Organization"
   ]
  },
  {
   "cell_type": "markdown",
   "metadata": {},
   "source": [
    "We reorganize `states_cases` so that each row denotes a state, each column heading corresponds to a certain day with, and each value represents the total cases in a given state on a given day."
   ]
  },
  {
   "cell_type": "code",
   "execution_count": 3,
   "metadata": {},
   "outputs": [
    {
     "data": {
      "text/html": [
       "<div>\n",
       "<style scoped>\n",
       "    .dataframe tbody tr th:only-of-type {\n",
       "        vertical-align: middle;\n",
       "    }\n",
       "\n",
       "    .dataframe tbody tr th {\n",
       "        vertical-align: top;\n",
       "    }\n",
       "\n",
       "    .dataframe thead th {\n",
       "        text-align: right;\n",
       "    }\n",
       "</style>\n",
       "<table border=\"1\" class=\"dataframe\">\n",
       "  <thead>\n",
       "    <tr style=\"text-align: right;\">\n",
       "      <th>date</th>\n",
       "      <th>2020-01-21</th>\n",
       "      <th>2020-01-22</th>\n",
       "      <th>2020-01-23</th>\n",
       "      <th>2020-01-24</th>\n",
       "      <th>2020-01-25</th>\n",
       "      <th>2020-01-26</th>\n",
       "      <th>2020-01-27</th>\n",
       "      <th>2020-01-28</th>\n",
       "      <th>2020-01-29</th>\n",
       "      <th>2020-01-30</th>\n",
       "      <th>...</th>\n",
       "      <th>2020-04-28</th>\n",
       "      <th>2020-04-29</th>\n",
       "      <th>2020-04-30</th>\n",
       "      <th>2020-05-01</th>\n",
       "      <th>2020-05-02</th>\n",
       "      <th>2020-05-03</th>\n",
       "      <th>2020-05-04</th>\n",
       "      <th>2020-05-05</th>\n",
       "      <th>2020-05-06</th>\n",
       "      <th>2020-05-07</th>\n",
       "    </tr>\n",
       "    <tr>\n",
       "      <th>state</th>\n",
       "      <th></th>\n",
       "      <th></th>\n",
       "      <th></th>\n",
       "      <th></th>\n",
       "      <th></th>\n",
       "      <th></th>\n",
       "      <th></th>\n",
       "      <th></th>\n",
       "      <th></th>\n",
       "      <th></th>\n",
       "      <th></th>\n",
       "      <th></th>\n",
       "      <th></th>\n",
       "      <th></th>\n",
       "      <th></th>\n",
       "      <th></th>\n",
       "      <th></th>\n",
       "      <th></th>\n",
       "      <th></th>\n",
       "      <th></th>\n",
       "      <th></th>\n",
       "    </tr>\n",
       "  </thead>\n",
       "  <tbody>\n",
       "    <tr>\n",
       "      <th>Alabama</th>\n",
       "      <td>0</td>\n",
       "      <td>0</td>\n",
       "      <td>0</td>\n",
       "      <td>0</td>\n",
       "      <td>0</td>\n",
       "      <td>0</td>\n",
       "      <td>0</td>\n",
       "      <td>0</td>\n",
       "      <td>0</td>\n",
       "      <td>0</td>\n",
       "      <td>...</td>\n",
       "      <td>6750</td>\n",
       "      <td>6925</td>\n",
       "      <td>7068</td>\n",
       "      <td>7294</td>\n",
       "      <td>7611</td>\n",
       "      <td>7888</td>\n",
       "      <td>8112</td>\n",
       "      <td>8437</td>\n",
       "      <td>8691</td>\n",
       "      <td>9046</td>\n",
       "    </tr>\n",
       "    <tr>\n",
       "      <th>Alaska</th>\n",
       "      <td>0</td>\n",
       "      <td>0</td>\n",
       "      <td>0</td>\n",
       "      <td>0</td>\n",
       "      <td>0</td>\n",
       "      <td>0</td>\n",
       "      <td>0</td>\n",
       "      <td>0</td>\n",
       "      <td>0</td>\n",
       "      <td>0</td>\n",
       "      <td>...</td>\n",
       "      <td>349</td>\n",
       "      <td>353</td>\n",
       "      <td>353</td>\n",
       "      <td>362</td>\n",
       "      <td>363</td>\n",
       "      <td>366</td>\n",
       "      <td>368</td>\n",
       "      <td>369</td>\n",
       "      <td>370</td>\n",
       "      <td>373</td>\n",
       "    </tr>\n",
       "    <tr>\n",
       "      <th>Arizona</th>\n",
       "      <td>0</td>\n",
       "      <td>0</td>\n",
       "      <td>0</td>\n",
       "      <td>0</td>\n",
       "      <td>0</td>\n",
       "      <td>1</td>\n",
       "      <td>1</td>\n",
       "      <td>1</td>\n",
       "      <td>1</td>\n",
       "      <td>1</td>\n",
       "      <td>...</td>\n",
       "      <td>6948</td>\n",
       "      <td>7202</td>\n",
       "      <td>7648</td>\n",
       "      <td>7962</td>\n",
       "      <td>8364</td>\n",
       "      <td>8640</td>\n",
       "      <td>8919</td>\n",
       "      <td>9305</td>\n",
       "      <td>9707</td>\n",
       "      <td>9945</td>\n",
       "    </tr>\n",
       "    <tr>\n",
       "      <th>Arkansas</th>\n",
       "      <td>0</td>\n",
       "      <td>0</td>\n",
       "      <td>0</td>\n",
       "      <td>0</td>\n",
       "      <td>0</td>\n",
       "      <td>0</td>\n",
       "      <td>0</td>\n",
       "      <td>0</td>\n",
       "      <td>0</td>\n",
       "      <td>0</td>\n",
       "      <td>...</td>\n",
       "      <td>3127</td>\n",
       "      <td>3207</td>\n",
       "      <td>3281</td>\n",
       "      <td>3310</td>\n",
       "      <td>3372</td>\n",
       "      <td>3431</td>\n",
       "      <td>3469</td>\n",
       "      <td>3525</td>\n",
       "      <td>3611</td>\n",
       "      <td>3694</td>\n",
       "    </tr>\n",
       "    <tr>\n",
       "      <th>California</th>\n",
       "      <td>0</td>\n",
       "      <td>0</td>\n",
       "      <td>0</td>\n",
       "      <td>0</td>\n",
       "      <td>1</td>\n",
       "      <td>2</td>\n",
       "      <td>2</td>\n",
       "      <td>2</td>\n",
       "      <td>2</td>\n",
       "      <td>2</td>\n",
       "      <td>...</td>\n",
       "      <td>46570</td>\n",
       "      <td>48904</td>\n",
       "      <td>50470</td>\n",
       "      <td>52318</td>\n",
       "      <td>53753</td>\n",
       "      <td>55072</td>\n",
       "      <td>56333</td>\n",
       "      <td>58848</td>\n",
       "      <td>60787</td>\n",
       "      <td>62481</td>\n",
       "    </tr>\n",
       "  </tbody>\n",
       "</table>\n",
       "<p>5 rows × 108 columns</p>\n",
       "</div>"
      ],
      "text/plain": [
       "date        2020-01-21  2020-01-22  2020-01-23  2020-01-24  2020-01-25  \\\n",
       "state                                                                    \n",
       "Alabama              0           0           0           0           0   \n",
       "Alaska               0           0           0           0           0   \n",
       "Arizona              0           0           0           0           0   \n",
       "Arkansas             0           0           0           0           0   \n",
       "California           0           0           0           0           1   \n",
       "\n",
       "date        2020-01-26  2020-01-27  2020-01-28  2020-01-29  2020-01-30  ...  \\\n",
       "state                                                                   ...   \n",
       "Alabama              0           0           0           0           0  ...   \n",
       "Alaska               0           0           0           0           0  ...   \n",
       "Arizona              1           1           1           1           1  ...   \n",
       "Arkansas             0           0           0           0           0  ...   \n",
       "California           2           2           2           2           2  ...   \n",
       "\n",
       "date        2020-04-28  2020-04-29  2020-04-30  2020-05-01  2020-05-02  \\\n",
       "state                                                                    \n",
       "Alabama           6750        6925        7068        7294        7611   \n",
       "Alaska             349         353         353         362         363   \n",
       "Arizona           6948        7202        7648        7962        8364   \n",
       "Arkansas          3127        3207        3281        3310        3372   \n",
       "California       46570       48904       50470       52318       53753   \n",
       "\n",
       "date        2020-05-03  2020-05-04  2020-05-05  2020-05-06  2020-05-07  \n",
       "state                                                                   \n",
       "Alabama           7888        8112        8437        8691        9046  \n",
       "Alaska             366         368         369         370         373  \n",
       "Arizona           8640        8919        9305        9707        9945  \n",
       "Arkansas          3431        3469        3525        3611        3694  \n",
       "California       55072       56333       58848       60787       62481  \n",
       "\n",
       "[5 rows x 108 columns]"
      ]
     },
     "execution_count": 3,
     "metadata": {},
     "output_type": "execute_result"
    }
   ],
   "source": [
    "states_cases = states_cases.pivot_table(\n",
    "    index = 'state',\n",
    "    columns = 'date',\n",
    "    values = 'cases',\n",
    "    fill_value = 0       \n",
    ")\n",
    "states_cases.head()"
   ]
  },
  {
   "cell_type": "markdown",
   "metadata": {},
   "source": [
    "`policies_data` has the the location based data (county and state names) and dates when social distancing  were enacted."
   ]
  },
  {
   "cell_type": "code",
   "execution_count": 4,
   "metadata": {},
   "outputs": [
    {
     "data": {
      "text/html": [
       "<div>\n",
       "<style scoped>\n",
       "    .dataframe tbody tr th:only-of-type {\n",
       "        vertical-align: middle;\n",
       "    }\n",
       "\n",
       "    .dataframe tbody tr th {\n",
       "        vertical-align: top;\n",
       "    }\n",
       "\n",
       "    .dataframe thead th {\n",
       "        text-align: right;\n",
       "    }\n",
       "</style>\n",
       "<table border=\"1\" class=\"dataframe\">\n",
       "  <thead>\n",
       "    <tr style=\"text-align: right;\">\n",
       "      <th></th>\n",
       "      <th>CountyName</th>\n",
       "      <th>StateName</th>\n",
       "      <th>State</th>\n",
       "      <th>stay at home</th>\n",
       "      <th>&gt;50 gatherings</th>\n",
       "      <th>&gt;500 gatherings</th>\n",
       "      <th>public schools</th>\n",
       "      <th>restaurant dine-in</th>\n",
       "      <th>entertainment/gym</th>\n",
       "      <th>federal guidelines</th>\n",
       "    </tr>\n",
       "  </thead>\n",
       "  <tbody>\n",
       "    <tr>\n",
       "      <th>0</th>\n",
       "      <td>Autauga</td>\n",
       "      <td>AL</td>\n",
       "      <td>Alabama</td>\n",
       "      <td>737519.0</td>\n",
       "      <td>737504.0</td>\n",
       "      <td>737497.0</td>\n",
       "      <td>737500.0</td>\n",
       "      <td>737503.0</td>\n",
       "      <td>737512.0</td>\n",
       "      <td>737500.0</td>\n",
       "    </tr>\n",
       "    <tr>\n",
       "      <th>1</th>\n",
       "      <td>Baldwin</td>\n",
       "      <td>AL</td>\n",
       "      <td>Alabama</td>\n",
       "      <td>737519.0</td>\n",
       "      <td>737504.0</td>\n",
       "      <td>737497.0</td>\n",
       "      <td>737500.0</td>\n",
       "      <td>737503.0</td>\n",
       "      <td>737512.0</td>\n",
       "      <td>737500.0</td>\n",
       "    </tr>\n",
       "    <tr>\n",
       "      <th>2</th>\n",
       "      <td>Barbour</td>\n",
       "      <td>AL</td>\n",
       "      <td>Alabama</td>\n",
       "      <td>737519.0</td>\n",
       "      <td>737504.0</td>\n",
       "      <td>737497.0</td>\n",
       "      <td>737500.0</td>\n",
       "      <td>737503.0</td>\n",
       "      <td>737512.0</td>\n",
       "      <td>737500.0</td>\n",
       "    </tr>\n",
       "    <tr>\n",
       "      <th>3</th>\n",
       "      <td>Bibb</td>\n",
       "      <td>AL</td>\n",
       "      <td>Alabama</td>\n",
       "      <td>737519.0</td>\n",
       "      <td>737504.0</td>\n",
       "      <td>737497.0</td>\n",
       "      <td>737500.0</td>\n",
       "      <td>737503.0</td>\n",
       "      <td>737512.0</td>\n",
       "      <td>737500.0</td>\n",
       "    </tr>\n",
       "    <tr>\n",
       "      <th>4</th>\n",
       "      <td>Blount</td>\n",
       "      <td>AL</td>\n",
       "      <td>Alabama</td>\n",
       "      <td>737519.0</td>\n",
       "      <td>737504.0</td>\n",
       "      <td>737497.0</td>\n",
       "      <td>737500.0</td>\n",
       "      <td>737503.0</td>\n",
       "      <td>737512.0</td>\n",
       "      <td>737500.0</td>\n",
       "    </tr>\n",
       "  </tbody>\n",
       "</table>\n",
       "</div>"
      ],
      "text/plain": [
       "  CountyName StateName    State  stay at home  >50 gatherings  \\\n",
       "0    Autauga        AL  Alabama      737519.0        737504.0   \n",
       "1    Baldwin        AL  Alabama      737519.0        737504.0   \n",
       "2    Barbour        AL  Alabama      737519.0        737504.0   \n",
       "3       Bibb        AL  Alabama      737519.0        737504.0   \n",
       "4     Blount        AL  Alabama      737519.0        737504.0   \n",
       "\n",
       "   >500 gatherings  public schools  restaurant dine-in  entertainment/gym  \\\n",
       "0         737497.0        737500.0            737503.0           737512.0   \n",
       "1         737497.0        737500.0            737503.0           737512.0   \n",
       "2         737497.0        737500.0            737503.0           737512.0   \n",
       "3         737497.0        737500.0            737503.0           737512.0   \n",
       "4         737497.0        737500.0            737503.0           737512.0   \n",
       "\n",
       "   federal guidelines  \n",
       "0            737500.0  \n",
       "1            737500.0  \n",
       "2            737500.0  \n",
       "3            737500.0  \n",
       "4            737500.0  "
      ]
     },
     "execution_count": 4,
     "metadata": {},
     "output_type": "execute_result"
    }
   ],
   "source": [
    "policies_data = abridged_counties[['CountyName', 'StateName', 'State', 'stay at home', '>50 gatherings',\n",
    "       '>500 gatherings', 'public schools', 'restaurant dine-in', 'entertainment/gym', 'federal guidelines']]\n",
    "policies_data.head()"
   ]
  },
  {
   "cell_type": "markdown",
   "metadata": {},
   "source": [
    "`StateName` is used as the index moving forward since no NaN values occur in this column. "
   ]
  },
  {
   "cell_type": "code",
   "execution_count": 5,
   "metadata": {},
   "outputs": [
    {
     "data": {
      "text/plain": [
       "CountyName              0\n",
       "StateName               0\n",
       "State                 169\n",
       "stay at home          592\n",
       ">50 gatherings        221\n",
       ">500 gatherings       221\n",
       "public schools         25\n",
       "restaurant dine-in     25\n",
       "entertainment/gym      90\n",
       "federal guidelines     25\n",
       "dtype: int64"
      ]
     },
     "execution_count": 5,
     "metadata": {},
     "output_type": "execute_result"
    }
   ],
   "source": [
    "policies_data.isna().sum()"
   ]
  },
  {
   "cell_type": "code",
   "execution_count": 6,
   "metadata": {},
   "outputs": [
    {
     "data": {
      "text/html": [
       "<div>\n",
       "<style scoped>\n",
       "    .dataframe tbody tr th:only-of-type {\n",
       "        vertical-align: middle;\n",
       "    }\n",
       "\n",
       "    .dataframe tbody tr th {\n",
       "        vertical-align: top;\n",
       "    }\n",
       "\n",
       "    .dataframe thead th {\n",
       "        text-align: right;\n",
       "    }\n",
       "</style>\n",
       "<table border=\"1\" class=\"dataframe\">\n",
       "  <thead>\n",
       "    <tr style=\"text-align: right;\">\n",
       "      <th></th>\n",
       "      <th>StateName</th>\n",
       "      <th>stay at home</th>\n",
       "      <th>&gt;50 gatherings</th>\n",
       "      <th>&gt;500 gatherings</th>\n",
       "      <th>public schools</th>\n",
       "      <th>restaurant dine-in</th>\n",
       "      <th>entertainment/gym</th>\n",
       "    </tr>\n",
       "  </thead>\n",
       "  <tbody>\n",
       "    <tr>\n",
       "      <th>0</th>\n",
       "      <td>AL</td>\n",
       "      <td>737519.0</td>\n",
       "      <td>737504.0</td>\n",
       "      <td>737497.0</td>\n",
       "      <td>737500.0</td>\n",
       "      <td>737503.0</td>\n",
       "      <td>737512.0</td>\n",
       "    </tr>\n",
       "    <tr>\n",
       "      <th>1</th>\n",
       "      <td>AL</td>\n",
       "      <td>737519.0</td>\n",
       "      <td>737504.0</td>\n",
       "      <td>737497.0</td>\n",
       "      <td>737500.0</td>\n",
       "      <td>737503.0</td>\n",
       "      <td>737512.0</td>\n",
       "    </tr>\n",
       "    <tr>\n",
       "      <th>2</th>\n",
       "      <td>AL</td>\n",
       "      <td>737519.0</td>\n",
       "      <td>737504.0</td>\n",
       "      <td>737497.0</td>\n",
       "      <td>737500.0</td>\n",
       "      <td>737503.0</td>\n",
       "      <td>737512.0</td>\n",
       "    </tr>\n",
       "    <tr>\n",
       "      <th>3</th>\n",
       "      <td>AL</td>\n",
       "      <td>737519.0</td>\n",
       "      <td>737504.0</td>\n",
       "      <td>737497.0</td>\n",
       "      <td>737500.0</td>\n",
       "      <td>737503.0</td>\n",
       "      <td>737512.0</td>\n",
       "    </tr>\n",
       "    <tr>\n",
       "      <th>4</th>\n",
       "      <td>AL</td>\n",
       "      <td>737519.0</td>\n",
       "      <td>737504.0</td>\n",
       "      <td>737497.0</td>\n",
       "      <td>737500.0</td>\n",
       "      <td>737503.0</td>\n",
       "      <td>737512.0</td>\n",
       "    </tr>\n",
       "  </tbody>\n",
       "</table>\n",
       "</div>"
      ],
      "text/plain": [
       "  StateName  stay at home  >50 gatherings  >500 gatherings  public schools  \\\n",
       "0        AL      737519.0        737504.0         737497.0        737500.0   \n",
       "1        AL      737519.0        737504.0         737497.0        737500.0   \n",
       "2        AL      737519.0        737504.0         737497.0        737500.0   \n",
       "3        AL      737519.0        737504.0         737497.0        737500.0   \n",
       "4        AL      737519.0        737504.0         737497.0        737500.0   \n",
       "\n",
       "   restaurant dine-in  entertainment/gym  \n",
       "0            737503.0           737512.0  \n",
       "1            737503.0           737512.0  \n",
       "2            737503.0           737512.0  \n",
       "3            737503.0           737512.0  \n",
       "4            737503.0           737512.0  "
      ]
     },
     "execution_count": 6,
     "metadata": {},
     "output_type": "execute_result"
    }
   ],
   "source": [
    "policies_data = policies_data.drop(columns = ['CountyName', 'State', 'federal guidelines'])\n",
    "policies_data.head()"
   ]
  },
  {
   "cell_type": "markdown",
   "metadata": {},
   "source": [
    "The dates in `policies_data` are in Gregorian ordinal format. The dates are converted the dates to datetime, and the NaN values were filled as when the the dataset was last updated (April 18th)."
   ]
  },
  {
   "cell_type": "code",
   "execution_count": 7,
   "metadata": {},
   "outputs": [
    {
     "data": {
      "text/html": [
       "<div>\n",
       "<style scoped>\n",
       "    .dataframe tbody tr th:only-of-type {\n",
       "        vertical-align: middle;\n",
       "    }\n",
       "\n",
       "    .dataframe tbody tr th {\n",
       "        vertical-align: top;\n",
       "    }\n",
       "\n",
       "    .dataframe thead th {\n",
       "        text-align: right;\n",
       "    }\n",
       "</style>\n",
       "<table border=\"1\" class=\"dataframe\">\n",
       "  <thead>\n",
       "    <tr style=\"text-align: right;\">\n",
       "      <th></th>\n",
       "      <th>StateName</th>\n",
       "      <th>stay at home</th>\n",
       "      <th>&gt;50 gatherings</th>\n",
       "      <th>&gt;500 gatherings</th>\n",
       "      <th>public schools</th>\n",
       "      <th>restaurant dine-in</th>\n",
       "      <th>entertainment/gym</th>\n",
       "    </tr>\n",
       "  </thead>\n",
       "  <tbody>\n",
       "    <tr>\n",
       "      <th>0</th>\n",
       "      <td>AL</td>\n",
       "      <td>2020-04-04</td>\n",
       "      <td>2020-03-20</td>\n",
       "      <td>2020-03-13</td>\n",
       "      <td>2020-03-16</td>\n",
       "      <td>2020-03-19</td>\n",
       "      <td>2020-03-28</td>\n",
       "    </tr>\n",
       "    <tr>\n",
       "      <th>1</th>\n",
       "      <td>AL</td>\n",
       "      <td>2020-04-04</td>\n",
       "      <td>2020-03-20</td>\n",
       "      <td>2020-03-13</td>\n",
       "      <td>2020-03-16</td>\n",
       "      <td>2020-03-19</td>\n",
       "      <td>2020-03-28</td>\n",
       "    </tr>\n",
       "    <tr>\n",
       "      <th>2</th>\n",
       "      <td>AL</td>\n",
       "      <td>2020-04-04</td>\n",
       "      <td>2020-03-20</td>\n",
       "      <td>2020-03-13</td>\n",
       "      <td>2020-03-16</td>\n",
       "      <td>2020-03-19</td>\n",
       "      <td>2020-03-28</td>\n",
       "    </tr>\n",
       "    <tr>\n",
       "      <th>3</th>\n",
       "      <td>AL</td>\n",
       "      <td>2020-04-04</td>\n",
       "      <td>2020-03-20</td>\n",
       "      <td>2020-03-13</td>\n",
       "      <td>2020-03-16</td>\n",
       "      <td>2020-03-19</td>\n",
       "      <td>2020-03-28</td>\n",
       "    </tr>\n",
       "    <tr>\n",
       "      <th>4</th>\n",
       "      <td>AL</td>\n",
       "      <td>2020-04-04</td>\n",
       "      <td>2020-03-20</td>\n",
       "      <td>2020-03-13</td>\n",
       "      <td>2020-03-16</td>\n",
       "      <td>2020-03-19</td>\n",
       "      <td>2020-03-28</td>\n",
       "    </tr>\n",
       "  </tbody>\n",
       "</table>\n",
       "</div>"
      ],
      "text/plain": [
       "  StateName stay at home >50 gatherings >500 gatherings public schools  \\\n",
       "0        AL   2020-04-04     2020-03-20      2020-03-13     2020-03-16   \n",
       "1        AL   2020-04-04     2020-03-20      2020-03-13     2020-03-16   \n",
       "2        AL   2020-04-04     2020-03-20      2020-03-13     2020-03-16   \n",
       "3        AL   2020-04-04     2020-03-20      2020-03-13     2020-03-16   \n",
       "4        AL   2020-04-04     2020-03-20      2020-03-13     2020-03-16   \n",
       "\n",
       "  restaurant dine-in entertainment/gym  \n",
       "0         2020-03-19        2020-03-28  \n",
       "1         2020-03-19        2020-03-28  \n",
       "2         2020-03-19        2020-03-28  \n",
       "3         2020-03-19        2020-03-28  \n",
       "4         2020-03-19        2020-03-28  "
      ]
     },
     "execution_count": 7,
     "metadata": {},
     "output_type": "execute_result"
    }
   ],
   "source": [
    "policies_data.loc[:, \"stay at home\":] = policies_data.loc[:, \"stay at home\":].fillna(date.toordinal(date(2020, 4, 18))).astype('int')\n",
    "for i in range(np.shape(policies_data.loc[:, \"stay at home\":])[1]):\n",
    "    policies_data[policies_data.loc[:, \"stay at home\":].columns[i]] = policies_data.loc[:, \"stay at home\":].iloc[:, i].apply(date.fromordinal)\n",
    "policies_data.head(5)"
   ]
  },
  {
   "cell_type": "markdown",
   "metadata": {},
   "source": [
    "Some states have multiple dates for when these orders were given. To simplify the analysis since we are looking at overall state data for confirmed cases, the mode date will be chosen to represent when the order took place for each state. "
   ]
  },
  {
   "cell_type": "code",
   "execution_count": 8,
   "metadata": {},
   "outputs": [
    {
     "name": "stdout",
     "output_type": "stream",
     "text": [
      "AL\n",
      "2020-04-04    66\n",
      "2020-03-26     1\n",
      "Name: stay at home, dtype: int64\n",
      "AK\n",
      "2020-03-28    28\n",
      "2020-04-18     3\n",
      "2020-03-22     1\n",
      "Name: stay at home, dtype: int64\n",
      "AZ\n",
      "2020-03-31    15\n",
      "Name: stay at home, dtype: int64\n",
      "AR\n",
      "2020-04-18    75\n",
      "Name: stay at home, dtype: int64\n",
      "CA\n",
      "2020-03-19    58\n",
      "Name: stay at home, dtype: int64\n"
     ]
    }
   ],
   "source": [
    "for x in range(len(policies_data.StateName.unique())):\n",
    "    state = policies_data.StateName.unique()[x]\n",
    "    if x < 5:\n",
    "        print(state)\n",
    "        print(policies_data[policies_data[\"StateName\"]==state][\"stay at home\"].value_counts())"
   ]
  },
  {
   "cell_type": "markdown",
   "metadata": {},
   "source": [
    "`SocialDist` is used construct when social distance orders for specific states of interest. `SevenDayAvg` is used to calculate the 7 day average of new cases per day. The 7 day average is used to identify the overall trend in cases over time since day to day reports may fluctuate due to inconsistent testing throughout the week. NaN values occur when there were no cases reported yet, so these values are filled in as 0."
   ]
  },
  {
   "cell_type": "code",
   "execution_count": 9,
   "metadata": {},
   "outputs": [],
   "source": [
    "def SocialDist(df, states):\n",
    "    result = pd.DataFrame()\n",
    "    for state in states:\n",
    "        result = result.append(df[df[\"StateName\"]==state].mode())\n",
    "    return result\n",
    "def SevenDayAvg(df, states):\n",
    "    result = pd.DataFrame()\n",
    "    for state in states:\n",
    "        result[state] = df.loc[state, :].diff().rolling(7).mean().fillna(0)\n",
    "    return result"
   ]
  },
  {
   "cell_type": "markdown",
   "metadata": {},
   "source": [
    "`SevenDayStates` contains the times series for the average new cases per day. Analysis is restricted to states and does not include territories of the US. "
   ]
  },
  {
   "cell_type": "code",
   "execution_count": 10,
   "metadata": {},
   "outputs": [
    {
     "data": {
      "text/html": [
       "<div>\n",
       "<style scoped>\n",
       "    .dataframe tbody tr th:only-of-type {\n",
       "        vertical-align: middle;\n",
       "    }\n",
       "\n",
       "    .dataframe tbody tr th {\n",
       "        vertical-align: top;\n",
       "    }\n",
       "\n",
       "    .dataframe thead th {\n",
       "        text-align: right;\n",
       "    }\n",
       "</style>\n",
       "<table border=\"1\" class=\"dataframe\">\n",
       "  <thead>\n",
       "    <tr style=\"text-align: right;\">\n",
       "      <th></th>\n",
       "      <th>Alabama</th>\n",
       "      <th>Alaska</th>\n",
       "      <th>Arizona</th>\n",
       "      <th>Arkansas</th>\n",
       "      <th>California</th>\n",
       "      <th>Colorado</th>\n",
       "      <th>Connecticut</th>\n",
       "      <th>Delaware</th>\n",
       "      <th>District of Columbia</th>\n",
       "      <th>Florida</th>\n",
       "      <th>...</th>\n",
       "      <th>South Dakota</th>\n",
       "      <th>Tennessee</th>\n",
       "      <th>Texas</th>\n",
       "      <th>Utah</th>\n",
       "      <th>Vermont</th>\n",
       "      <th>Virginia</th>\n",
       "      <th>Washington</th>\n",
       "      <th>West Virginia</th>\n",
       "      <th>Wisconsin</th>\n",
       "      <th>Wyoming</th>\n",
       "    </tr>\n",
       "    <tr>\n",
       "      <th>date</th>\n",
       "      <th></th>\n",
       "      <th></th>\n",
       "      <th></th>\n",
       "      <th></th>\n",
       "      <th></th>\n",
       "      <th></th>\n",
       "      <th></th>\n",
       "      <th></th>\n",
       "      <th></th>\n",
       "      <th></th>\n",
       "      <th></th>\n",
       "      <th></th>\n",
       "      <th></th>\n",
       "      <th></th>\n",
       "      <th></th>\n",
       "      <th></th>\n",
       "      <th></th>\n",
       "      <th></th>\n",
       "      <th></th>\n",
       "      <th></th>\n",
       "      <th></th>\n",
       "    </tr>\n",
       "  </thead>\n",
       "  <tbody>\n",
       "    <tr>\n",
       "      <th>2020-01-21</th>\n",
       "      <td>0.0</td>\n",
       "      <td>0.0</td>\n",
       "      <td>0.0</td>\n",
       "      <td>0.0</td>\n",
       "      <td>0.0</td>\n",
       "      <td>0.0</td>\n",
       "      <td>0.0</td>\n",
       "      <td>0.0</td>\n",
       "      <td>0.0</td>\n",
       "      <td>0.0</td>\n",
       "      <td>...</td>\n",
       "      <td>0.0</td>\n",
       "      <td>0.0</td>\n",
       "      <td>0.0</td>\n",
       "      <td>0.0</td>\n",
       "      <td>0.0</td>\n",
       "      <td>0.0</td>\n",
       "      <td>0.0</td>\n",
       "      <td>0.0</td>\n",
       "      <td>0.0</td>\n",
       "      <td>0.0</td>\n",
       "    </tr>\n",
       "    <tr>\n",
       "      <th>2020-01-22</th>\n",
       "      <td>0.0</td>\n",
       "      <td>0.0</td>\n",
       "      <td>0.0</td>\n",
       "      <td>0.0</td>\n",
       "      <td>0.0</td>\n",
       "      <td>0.0</td>\n",
       "      <td>0.0</td>\n",
       "      <td>0.0</td>\n",
       "      <td>0.0</td>\n",
       "      <td>0.0</td>\n",
       "      <td>...</td>\n",
       "      <td>0.0</td>\n",
       "      <td>0.0</td>\n",
       "      <td>0.0</td>\n",
       "      <td>0.0</td>\n",
       "      <td>0.0</td>\n",
       "      <td>0.0</td>\n",
       "      <td>0.0</td>\n",
       "      <td>0.0</td>\n",
       "      <td>0.0</td>\n",
       "      <td>0.0</td>\n",
       "    </tr>\n",
       "    <tr>\n",
       "      <th>2020-01-23</th>\n",
       "      <td>0.0</td>\n",
       "      <td>0.0</td>\n",
       "      <td>0.0</td>\n",
       "      <td>0.0</td>\n",
       "      <td>0.0</td>\n",
       "      <td>0.0</td>\n",
       "      <td>0.0</td>\n",
       "      <td>0.0</td>\n",
       "      <td>0.0</td>\n",
       "      <td>0.0</td>\n",
       "      <td>...</td>\n",
       "      <td>0.0</td>\n",
       "      <td>0.0</td>\n",
       "      <td>0.0</td>\n",
       "      <td>0.0</td>\n",
       "      <td>0.0</td>\n",
       "      <td>0.0</td>\n",
       "      <td>0.0</td>\n",
       "      <td>0.0</td>\n",
       "      <td>0.0</td>\n",
       "      <td>0.0</td>\n",
       "    </tr>\n",
       "    <tr>\n",
       "      <th>2020-01-24</th>\n",
       "      <td>0.0</td>\n",
       "      <td>0.0</td>\n",
       "      <td>0.0</td>\n",
       "      <td>0.0</td>\n",
       "      <td>0.0</td>\n",
       "      <td>0.0</td>\n",
       "      <td>0.0</td>\n",
       "      <td>0.0</td>\n",
       "      <td>0.0</td>\n",
       "      <td>0.0</td>\n",
       "      <td>...</td>\n",
       "      <td>0.0</td>\n",
       "      <td>0.0</td>\n",
       "      <td>0.0</td>\n",
       "      <td>0.0</td>\n",
       "      <td>0.0</td>\n",
       "      <td>0.0</td>\n",
       "      <td>0.0</td>\n",
       "      <td>0.0</td>\n",
       "      <td>0.0</td>\n",
       "      <td>0.0</td>\n",
       "    </tr>\n",
       "    <tr>\n",
       "      <th>2020-01-25</th>\n",
       "      <td>0.0</td>\n",
       "      <td>0.0</td>\n",
       "      <td>0.0</td>\n",
       "      <td>0.0</td>\n",
       "      <td>0.0</td>\n",
       "      <td>0.0</td>\n",
       "      <td>0.0</td>\n",
       "      <td>0.0</td>\n",
       "      <td>0.0</td>\n",
       "      <td>0.0</td>\n",
       "      <td>...</td>\n",
       "      <td>0.0</td>\n",
       "      <td>0.0</td>\n",
       "      <td>0.0</td>\n",
       "      <td>0.0</td>\n",
       "      <td>0.0</td>\n",
       "      <td>0.0</td>\n",
       "      <td>0.0</td>\n",
       "      <td>0.0</td>\n",
       "      <td>0.0</td>\n",
       "      <td>0.0</td>\n",
       "    </tr>\n",
       "  </tbody>\n",
       "</table>\n",
       "<p>5 rows × 51 columns</p>\n",
       "</div>"
      ],
      "text/plain": [
       "            Alabama  Alaska  Arizona  Arkansas  California  Colorado  \\\n",
       "date                                                                   \n",
       "2020-01-21      0.0     0.0      0.0       0.0         0.0       0.0   \n",
       "2020-01-22      0.0     0.0      0.0       0.0         0.0       0.0   \n",
       "2020-01-23      0.0     0.0      0.0       0.0         0.0       0.0   \n",
       "2020-01-24      0.0     0.0      0.0       0.0         0.0       0.0   \n",
       "2020-01-25      0.0     0.0      0.0       0.0         0.0       0.0   \n",
       "\n",
       "            Connecticut  Delaware  District of Columbia  Florida  ...  \\\n",
       "date                                                              ...   \n",
       "2020-01-21          0.0       0.0                   0.0      0.0  ...   \n",
       "2020-01-22          0.0       0.0                   0.0      0.0  ...   \n",
       "2020-01-23          0.0       0.0                   0.0      0.0  ...   \n",
       "2020-01-24          0.0       0.0                   0.0      0.0  ...   \n",
       "2020-01-25          0.0       0.0                   0.0      0.0  ...   \n",
       "\n",
       "            South Dakota  Tennessee  Texas  Utah  Vermont  Virginia  \\\n",
       "date                                                                  \n",
       "2020-01-21           0.0        0.0    0.0   0.0      0.0       0.0   \n",
       "2020-01-22           0.0        0.0    0.0   0.0      0.0       0.0   \n",
       "2020-01-23           0.0        0.0    0.0   0.0      0.0       0.0   \n",
       "2020-01-24           0.0        0.0    0.0   0.0      0.0       0.0   \n",
       "2020-01-25           0.0        0.0    0.0   0.0      0.0       0.0   \n",
       "\n",
       "            Washington  West Virginia  Wisconsin  Wyoming  \n",
       "date                                                       \n",
       "2020-01-21         0.0            0.0        0.0      0.0  \n",
       "2020-01-22         0.0            0.0        0.0      0.0  \n",
       "2020-01-23         0.0            0.0        0.0      0.0  \n",
       "2020-01-24         0.0            0.0        0.0      0.0  \n",
       "2020-01-25         0.0            0.0        0.0      0.0  \n",
       "\n",
       "[5 rows x 51 columns]"
      ]
     },
     "execution_count": 10,
     "metadata": {},
     "output_type": "execute_result"
    }
   ],
   "source": [
    "SevenDayStates = SevenDayAvg(states_cases, states_cases.index)\n",
    "SevenDayAvg(states_cases, states_cases.index)\n",
    "SevenDayStates = SevenDayStates.drop(columns = [\"Guam\", \"Northern Mariana Islands\", \"Puerto Rico\", \"Virgin Islands\"])\n",
    "SevenDayStates.head()"
   ]
  },
  {
   "cell_type": "markdown",
   "metadata": {},
   "source": [
    "## Comparing  Social Distancing Policies in Four States"
   ]
  },
  {
   "cell_type": "markdown",
   "metadata": {},
   "source": [
    "`SocialDistCA_TX` contains the dates for when different social distancing policies were enacted in California, New York, Texas, and Iowa."
   ]
  },
  {
   "cell_type": "code",
   "execution_count": 11,
   "metadata": {},
   "outputs": [
    {
     "data": {
      "text/html": [
       "<div>\n",
       "<style scoped>\n",
       "    .dataframe tbody tr th:only-of-type {\n",
       "        vertical-align: middle;\n",
       "    }\n",
       "\n",
       "    .dataframe tbody tr th {\n",
       "        vertical-align: top;\n",
       "    }\n",
       "\n",
       "    .dataframe thead th {\n",
       "        text-align: right;\n",
       "    }\n",
       "</style>\n",
       "<table border=\"1\" class=\"dataframe\">\n",
       "  <thead>\n",
       "    <tr style=\"text-align: right;\">\n",
       "      <th></th>\n",
       "      <th>StateName</th>\n",
       "      <th>stay at home</th>\n",
       "      <th>&gt;50 gatherings</th>\n",
       "      <th>&gt;500 gatherings</th>\n",
       "      <th>public schools</th>\n",
       "      <th>restaurant dine-in</th>\n",
       "      <th>entertainment/gym</th>\n",
       "    </tr>\n",
       "  </thead>\n",
       "  <tbody>\n",
       "    <tr>\n",
       "      <th>0</th>\n",
       "      <td>CA</td>\n",
       "      <td>2020-03-19</td>\n",
       "      <td>2020-03-19</td>\n",
       "      <td>2020-03-19</td>\n",
       "      <td>2020-03-19</td>\n",
       "      <td>2020-03-15</td>\n",
       "      <td>2020-03-15</td>\n",
       "    </tr>\n",
       "    <tr>\n",
       "      <th>0</th>\n",
       "      <td>NY</td>\n",
       "      <td>2020-03-22</td>\n",
       "      <td>2020-03-16</td>\n",
       "      <td>2020-03-13</td>\n",
       "      <td>2020-03-18</td>\n",
       "      <td>2020-03-16</td>\n",
       "      <td>2020-03-16</td>\n",
       "    </tr>\n",
       "    <tr>\n",
       "      <th>0</th>\n",
       "      <td>IA</td>\n",
       "      <td>2020-04-18</td>\n",
       "      <td>2020-04-02</td>\n",
       "      <td>2020-04-02</td>\n",
       "      <td>2020-04-02</td>\n",
       "      <td>2020-03-17</td>\n",
       "      <td>2020-03-17</td>\n",
       "    </tr>\n",
       "    <tr>\n",
       "      <th>0</th>\n",
       "      <td>TX</td>\n",
       "      <td>2020-04-02</td>\n",
       "      <td>2020-03-21</td>\n",
       "      <td>2020-03-14</td>\n",
       "      <td>2020-03-23</td>\n",
       "      <td>2020-03-19</td>\n",
       "      <td>2020-03-19</td>\n",
       "    </tr>\n",
       "  </tbody>\n",
       "</table>\n",
       "</div>"
      ],
      "text/plain": [
       "  StateName stay at home >50 gatherings >500 gatherings public schools  \\\n",
       "0        CA   2020-03-19     2020-03-19      2020-03-19     2020-03-19   \n",
       "0        NY   2020-03-22     2020-03-16      2020-03-13     2020-03-18   \n",
       "0        IA   2020-04-18     2020-04-02      2020-04-02     2020-04-02   \n",
       "0        TX   2020-04-02     2020-03-21      2020-03-14     2020-03-23   \n",
       "\n",
       "  restaurant dine-in entertainment/gym  \n",
       "0         2020-03-15        2020-03-15  \n",
       "0         2020-03-16        2020-03-16  \n",
       "0         2020-03-17        2020-03-17  \n",
       "0         2020-03-19        2020-03-19  "
      ]
     },
     "execution_count": 11,
     "metadata": {},
     "output_type": "execute_result"
    }
   ],
   "source": [
    "states = [\"CA\", \"NY\", \"IA\", \"TX\"]\n",
    "SocialDistCA_TX = SocialDist(policies_data, states)\n",
    "SocialDistCA_TX"
   ]
  },
  {
   "cell_type": "markdown",
   "metadata": {},
   "source": [
    "Overall amongst all types of social distancing strategies, entertainment/gym and restaurant dine-in restrictions varied the least while stay at home orders varied the most. California and New York (March 19th and March 22nd, respectively) implemented stay at home orders much earlier than Texas and Iowa (Iowa did not implement a stay at home order as of April 18th). "
   ]
  },
  {
   "cell_type": "markdown",
   "metadata": {},
   "source": [
    "### Visualization of Social Distancing Outcomes"
   ]
  },
  {
   "cell_type": "markdown",
   "metadata": {},
   "source": [
    "Now, the 7 day average in new cases for each of these four states is plotted along with annotations for when their social distancing policies were implemented. "
   ]
  },
  {
   "cell_type": "code",
   "execution_count": 12,
   "metadata": {},
   "outputs": [
    {
     "data": {
      "image/png": "[encoded data removed]",
      "text/plain": [
       "<Figure size 792x432 with 1 Axes>"
      ]
     },
     "metadata": {},
     "output_type": "display_data"
    },
    {
     "data": {
      "image/png": "[encoded data removed]",
      "text/plain": [
       "<Figure size 792x432 with 1 Axes>"
      ]
     },
     "metadata": {},
     "output_type": "display_data"
    },
    {
     "data": {
      "image/png": "[encoded data removed]",
      "text/plain": [
       "<Figure size 792x432 with 1 Axes>"
      ]
     },
     "metadata": {},
     "output_type": "display_data"
    },
    {
     "data": {
      "image/png": "[encoded data removed]",
      "text/plain": [
       "<Figure size 792x432 with 1 Axes>"
      ]
     },
     "metadata": {},
     "output_type": "display_data"
    }
   ],
   "source": [
    "figCA = plt.figure(figsize = (11, 6))\n",
    "axCA = figCA.add_subplot(111)\n",
    "axCA.plot(SevenDayStates[\"California\"].index, SevenDayStates[\"California\"])\n",
    "axCA.annotate('Stay at Home \\n >50 Gatherings \\n Public Schools', xy = (58, SevenDayStates[\"California\"].iloc[58]), \n",
    "            xytext = (36, 350), \n",
    "            fontsize = 10,\n",
    "            arrowprops=dict(facecolor='black', shrink=0.05))\n",
    "axCA.annotate('Restaurants \\n Enterntainment/Gym', xy = (54, SevenDayStates[\"California\"].iloc[54]),\n",
    "            xytext = (30, 200),\n",
    "            fontsize = 10,\n",
    "            arrowprops=dict(facecolor='black', shrink=0.05))\n",
    "axCA.xaxis.set_ticks([54, 58, 71, 101])\n",
    "axCA.set_xticklabels([\"March 15\", \"March 19\", \"April 1\", \"May 1\"], rotation = 50, fontsize = 14)\n",
    "axCA.set_title(\"New Cases in California (7 Day Average)\")\n",
    "axCA.set_ylabel(\"Number of New Cases\");\n",
    "\n",
    "figNY = plt.figure(figsize = (11, 6))\n",
    "axNY = figNY.add_subplot(111)\n",
    "axNY.plot(SevenDayStates[\"New York\"].index, SevenDayStates[\"New York\"])\n",
    "axNY.annotate('>500 Gatherings', xy = (54, SevenDayStates[\"New York\"].iloc[54]), \n",
    "            xytext = (33, 350), \n",
    "            fontsize = 10,\n",
    "            arrowprops=dict(facecolor='black', shrink=0.05))\n",
    "axNY.annotate('Restaurants \\nEnterntainment/Gym \\n>50 Gatherings' , xy = (57, SevenDayStates[\"New York\"].iloc[57]),\n",
    "           xytext = (34, 850),\n",
    "            fontsize = 10,\n",
    "            arrowprops=dict(facecolor='black', shrink=0.05))\n",
    "axNY.annotate('Public Schools', xy = (59, SevenDayStates[\"New York\"].iloc[59]),\n",
    "           xytext = (44, 2000),\n",
    "            fontsize = 10,\n",
    "            arrowprops=dict(facecolor='black', shrink=0.05))\n",
    "axNY.annotate('Stay at Home', xy = (63, SevenDayStates[\"New York\"].iloc[63]),\n",
    "            xytext = (45, 4000),\n",
    "            fontsize = 10,\n",
    "            arrowprops=dict(facecolor='black', shrink=0.05))\n",
    "axNY.xaxis.set_ticks([54, 57, 59, 63, 71, 101])\n",
    "axNY.set_xticklabels([\"March 13\", \"March 16\", \"March 18\", \"March 22\", \"April 1\", \"May 1\"],\n",
    "                     rotation = 75,\n",
    "                     fontsize = 13)\n",
    "axNY.set_title(\"New Cases in New York (7 Day Average)\")\n",
    "axNY.set_ylabel(\"Number of New Cases\");\n",
    "\n",
    "figIA = plt.figure(figsize = (11, 6))\n",
    "axIA = figIA.add_subplot(111)\n",
    "axIA.plot(SevenDayStates[\"Iowa\"].index, SevenDayStates[\"Iowa\"])\n",
    "axIA.annotate('Restaurant Dine-in \\nEntertainment/Gym', xy = (56, SevenDayStates[\"Iowa\"].iloc[57]), \n",
    "            xytext = (36,50), \n",
    "            fontsize = 10,\n",
    "            arrowprops=dict(facecolor='black', shrink=0.05))\n",
    "axIA.annotate('>50 Gatherings', xy = (72, SevenDayStates[\"Iowa\"].iloc[72]),\n",
    "            xytext = (55, 110),\n",
    "            fontsize = 10,\n",
    "            arrowprops=dict(facecolor='black', shrink=0.05))\n",
    "axIA.xaxis.set_ticks([56, 72, 101])\n",
    "axIA.set_xticklabels([\"March 17\", \"April 2\", \"May 1\"],\n",
    "                     rotation = 50,\n",
    "                     fontsize = 14);\n",
    "axIA.set_title(\"New Cases in Iowa (7 Day Average)\")\n",
    "axIA.set_ylabel(\"Number of New Cases\");\n",
    "\n",
    "figTX = plt.figure(figsize = (11, 6))\n",
    "axTX = figTX.add_subplot(111)\n",
    "axTX.plot(SevenDayStates[\"Texas\"].index, SevenDayStates[\"Texas\"])\n",
    "axTX.annotate('>500 Gatherings', xy = (54, SevenDayStates[\"Texas\"].iloc[54]), \n",
    "            xytext = (37,70), \n",
    "            fontsize = 10,\n",
    "            arrowprops=dict(facecolor='black', shrink=0.05))\n",
    "axTX.annotate('Restaurant Dine-in \\nEntertainment/Gym', xy = (59, SevenDayStates[\"Texas\"].iloc[59]), \n",
    "            xytext = (40,130), \n",
    "            fontsize = 10,\n",
    "            arrowprops=dict(facecolor='black', shrink=0.05))\n",
    "axTX.annotate('Public Schools', xy = (63, SevenDayStates[\"Texas\"].iloc[63]), \n",
    "            xytext = (44,230), \n",
    "            fontsize = 10,\n",
    "            arrowprops=dict(facecolor='black', shrink=0.05))\n",
    "axTX.annotate('Stay at Home', xy = (72, SevenDayStates[\"Texas\"].iloc[72]),\n",
    "            xytext = (57, 550),\n",
    "            fontsize = 10,\n",
    "            arrowprops=dict(facecolor='black', shrink=0.05))\n",
    "axTX.xaxis.set_ticks([54, 59, 63, 72, 101])\n",
    "axTX.set_xticklabels([\"March 14\", \"March 19\", \"March 23\", \"April 2\", \"May 1\"],  rotation = 50, fontsize = 14);\n",
    "axTX.set_title(\"New Cases in Texas (7 Day Average)\")\n",
    "axTX.set_ylabel(\"Number of New Cases\");"
   ]
  },
  {
   "cell_type": "markdown",
   "metadata": {},
   "source": [
    "From the above, California, New York, and Texas, there aren't prolonged decreases or plateaus in new cases until after social distancing policies are implemented. It appears that only limiting social gatherings, closing schools, and restricint dine-in restaurants/entertainment on their own have not slowed the amount of cases. Iowa for example does not exhibit any reductions in cases. This data suggests that a strict stay at home order is required to slow the spread of a disease as contagious as COVID-19. However, this is still a small sample size on only four states, and more analysis will be required to verify this difference in outcomes amongst states."
   ]
  },
  {
   "cell_type": "markdown",
   "metadata": {},
   "source": [
    "### Quantifying When Social Distancing Policies were Implemented for Four States"
   ]
  },
  {
   "cell_type": "markdown",
   "metadata": {},
   "source": [
    "`findgrowth` is used to identify when the coronavirus began spreading in each state. The beginning of the \"spread\" is defined as when the 7 day average in new cases was greater than 1. This method is intended to to assess how quickly state governemnts reacted to the spread of the virus in their own states."
   ]
  },
  {
   "cell_type": "code",
   "execution_count": 13,
   "metadata": {},
   "outputs": [],
   "source": [
    "def findgrowth(sevenday, states):\n",
    "    result = pd.DataFrame()\n",
    "    for state in states:\n",
    "        result = result.append(\n",
    "            pd.DataFrame(\n",
    "                [date.toordinal(\n",
    "                    datetime.strptime(sevenday[state][sevenday[state]>1].head(1).index[0], '%Y-%m-%d'))], [state]))\n",
    "    return result"
   ]
  },
  {
   "cell_type": "markdown",
   "metadata": {},
   "source": [
    "The data must be in ordinal format to find the difference between when social distancing policies were enacted and cases began to grow. `first_growth` are when cases began to grow. `days_after_1st` are the amount of days each policy was enacted after cases began to grow. "
   ]
  },
  {
   "cell_type": "code",
   "execution_count": 14,
   "metadata": {},
   "outputs": [
    {
     "data": {
      "text/html": [
       "<div>\n",
       "<style scoped>\n",
       "    .dataframe tbody tr th:only-of-type {\n",
       "        vertical-align: middle;\n",
       "    }\n",
       "\n",
       "    .dataframe tbody tr th {\n",
       "        vertical-align: top;\n",
       "    }\n",
       "\n",
       "    .dataframe thead th {\n",
       "        text-align: right;\n",
       "    }\n",
       "</style>\n",
       "<table border=\"1\" class=\"dataframe\">\n",
       "  <thead>\n",
       "    <tr style=\"text-align: right;\">\n",
       "      <th></th>\n",
       "      <th>stay at home</th>\n",
       "      <th>&gt;50 gatherings</th>\n",
       "      <th>&gt;500 gatherings</th>\n",
       "      <th>public schools</th>\n",
       "      <th>restaurant dine-in</th>\n",
       "      <th>entertainment/gym</th>\n",
       "    </tr>\n",
       "    <tr>\n",
       "      <th>StateName</th>\n",
       "      <th></th>\n",
       "      <th></th>\n",
       "      <th></th>\n",
       "      <th></th>\n",
       "      <th></th>\n",
       "      <th></th>\n",
       "    </tr>\n",
       "  </thead>\n",
       "  <tbody>\n",
       "    <tr>\n",
       "      <th>CA</th>\n",
       "      <td>22</td>\n",
       "      <td>22</td>\n",
       "      <td>22</td>\n",
       "      <td>22</td>\n",
       "      <td>18</td>\n",
       "      <td>18</td>\n",
       "    </tr>\n",
       "    <tr>\n",
       "      <th>NY</th>\n",
       "      <td>18</td>\n",
       "      <td>12</td>\n",
       "      <td>9</td>\n",
       "      <td>14</td>\n",
       "      <td>12</td>\n",
       "      <td>12</td>\n",
       "    </tr>\n",
       "    <tr>\n",
       "      <th>IA</th>\n",
       "      <td>40</td>\n",
       "      <td>24</td>\n",
       "      <td>24</td>\n",
       "      <td>24</td>\n",
       "      <td>8</td>\n",
       "      <td>8</td>\n",
       "    </tr>\n",
       "    <tr>\n",
       "      <th>TX</th>\n",
       "      <td>38</td>\n",
       "      <td>26</td>\n",
       "      <td>19</td>\n",
       "      <td>28</td>\n",
       "      <td>24</td>\n",
       "      <td>24</td>\n",
       "    </tr>\n",
       "  </tbody>\n",
       "</table>\n",
       "</div>"
      ],
      "text/plain": [
       "           stay at home  >50 gatherings  >500 gatherings  public schools  \\\n",
       "StateName                                                                  \n",
       "CA                   22              22               22              22   \n",
       "NY                   18              12                9              14   \n",
       "IA                   40              24               24              24   \n",
       "TX                   38              26               19              28   \n",
       "\n",
       "           restaurant dine-in  entertainment/gym  \n",
       "StateName                                         \n",
       "CA                         18                 18  \n",
       "NY                         12                 12  \n",
       "IA                          8                  8  \n",
       "TX                         24                 24  "
      ]
     },
     "execution_count": 14,
     "metadata": {},
     "output_type": "execute_result"
    }
   ],
   "source": [
    "for i in range(6):\n",
    "    SocialDistCA_TX[SocialDistCA_TX.loc[:, \"stay at home\":].columns[i]] = SocialDistCA_TX.loc[:, \"stay at home\":].iloc[:, i].apply(date.toordinal)\n",
    "states = [\"California\", \"New York\", \"Iowa\", \"Texas\"]\n",
    "first_growth = findgrowth(SevenDayStates, states)\n",
    "first_growth.index.name = \"State\"\n",
    "days_after_1st = SocialDistCA_TX.set_index(\"StateName\") - np.array(first_growth)\n",
    "days_after_1st"
   ]
  },
  {
   "cell_type": "markdown",
   "metadata": {},
   "source": [
    "Stay at home orders began a lot sooner in California and New York relative to when cases began growing while reaction time to enact other polices varied among all states with New York consistently acting early in their polices. New York  as seen in the figures above has also had the largest overall reduction in average new cases per day. "
   ]
  },
  {
   "cell_type": "markdown",
   "metadata": {},
   "source": [
    "## Comparing Stay at Home Orders and Their Outcomes for the Entire US"
   ]
  },
  {
   "cell_type": "markdown",
   "metadata": {},
   "source": [
    "The analysis so far has only been focused on a few states. The scope is now broadened to include more states to see if a trend can be generalized for the entire country. The focus will be on how the outcomes in cases per day differs between states that had quicker responses to those with slower responses. Differences in stay at home orders will be analyzed since this is the strictest policy in place and the results so far indicate that it is an important factor in limiting disease spread."
   ]
  },
  {
   "cell_type": "markdown",
   "metadata": {},
   "source": [
    "### Redefining the Reaction Time"
   ]
  },
  {
   "cell_type": "markdown",
   "metadata": {},
   "source": [
    "Instead of finding the day that cases began to grow, stay at home orders reactions will be made in reference to days after a state of national emergency was declared. Since some states may have not had capabilities of testing until after this point, setting this day as a reference point allows for a comparison of how each state reacted to federal guidelines. The declaration was made on March 16th according to the `policies_data` dataset. \n",
    "\n",
    "The stay at home dates are converted to ordinal format using `ordinalfxn` so that the values can be substracted as integers representing days. `StayatHomeDays` lists the amount of days that stay at home orders were given for each state after March 16th."
   ]
  },
  {
   "cell_type": "code",
   "execution_count": 15,
   "metadata": {},
   "outputs": [],
   "source": [
    "def ordinalfxn(df, column):\n",
    "    for x in df.index:\n",
    "        df.loc[x, column] = date.toordinal(df.loc[x, column])\n",
    "    return df"
   ]
  },
  {
   "cell_type": "code",
   "execution_count": 16,
   "metadata": {},
   "outputs": [
    {
     "data": {
      "text/html": [
       "<div>\n",
       "<style scoped>\n",
       "    .dataframe tbody tr th:only-of-type {\n",
       "        vertical-align: middle;\n",
       "    }\n",
       "\n",
       "    .dataframe tbody tr th {\n",
       "        vertical-align: top;\n",
       "    }\n",
       "\n",
       "    .dataframe thead th {\n",
       "        text-align: right;\n",
       "    }\n",
       "</style>\n",
       "<table border=\"1\" class=\"dataframe\">\n",
       "  <thead>\n",
       "    <tr style=\"text-align: right;\">\n",
       "      <th></th>\n",
       "      <th>Stay at Home</th>\n",
       "    </tr>\n",
       "    <tr>\n",
       "      <th>State</th>\n",
       "      <th></th>\n",
       "    </tr>\n",
       "  </thead>\n",
       "  <tbody>\n",
       "    <tr>\n",
       "      <th>Alabama</th>\n",
       "      <td>19</td>\n",
       "    </tr>\n",
       "    <tr>\n",
       "      <th>Alaska</th>\n",
       "      <td>12</td>\n",
       "    </tr>\n",
       "    <tr>\n",
       "      <th>Arizona</th>\n",
       "      <td>15</td>\n",
       "    </tr>\n",
       "    <tr>\n",
       "      <th>Arkansas</th>\n",
       "      <td>33</td>\n",
       "    </tr>\n",
       "    <tr>\n",
       "      <th>California</th>\n",
       "      <td>3</td>\n",
       "    </tr>\n",
       "  </tbody>\n",
       "</table>\n",
       "</div>"
      ],
      "text/plain": [
       "           Stay at Home\n",
       "State                  \n",
       "Alabama              19\n",
       "Alaska               12\n",
       "Arizona              15\n",
       "Arkansas             33\n",
       "California            3"
      ]
     },
     "execution_count": 16,
     "metadata": {},
     "output_type": "execute_result"
    }
   ],
   "source": [
    "StayatHomeDates = pd.DataFrame()\n",
    "for x in policies_data['StateName'].unique():\n",
    "    StayatHomeDates = StayatHomeDates.append(pd.DataFrame([policies_data.loc[policies_data[\"StateName\"] == x, \"stay at home\"].head(1).iloc[0]], [x]))\n",
    "StayatHomeDates = StayatHomeDates.rename(columns = {0:'Stay at Home'})\n",
    "StayatHomeDates = ordinalfxn(StayatHomeDates, \"Stay at Home\").drop(['GU', 'PR', 'AS', 'MP', 'VI'])\n",
    "StayatHomeDates = StayatHomeDates.set_index(SevenDayStates.columns)\n",
    "StayatHomeDays = StayatHomeDates - np.array(abridged_counties[\"federal guidelines\"][0].astype(int))\n",
    "StayatHomeDays.index.name = \"State\"\n",
    "StayatHomeDays.head()"
   ]
  },
  {
   "cell_type": "markdown",
   "metadata": {},
   "source": [
    "The distribution of `StayatHomeDays` is plotted as a histogram."
   ]
  },
  {
   "cell_type": "code",
   "execution_count": 17,
   "metadata": {},
   "outputs": [
    {
     "data": {
      "image/png": "[encoded data removed]",
      "text/plain": [
       "<Figure size 432x288 with 1 Axes>"
      ]
     },
     "metadata": {},
     "output_type": "display_data"
    }
   ],
   "source": [
    "ax = sns.distplot(StayatHomeDays, rug = True, kde = False, norm_hist = True)\n",
    "ax.set_title(\"Distribution of Stay at Home Order Response Time\", fontsize = 14)\n",
    "ax.set_xlabel(\"Days After Federal Guidelines Implemented\", fontsize = 14);"
   ]
  },
  {
   "cell_type": "markdown",
   "metadata": {},
   "source": [
    "The distriubtion of `StayatHomeDays` is right skewed with most states reacting within about 12 days of when a federal state of emergency was declared."
   ]
  },
  {
   "cell_type": "markdown",
   "metadata": {},
   "source": [
    "### Normalizing the Data"
   ]
  },
  {
   "cell_type": "markdown",
   "metadata": {},
   "source": [
    "To conduct this analysis, growth rates in cases need to be calculated for each state. This is done by normalizing the new cases per day dataset on a per capita basis. Using the 2018 population estimate for each state from the `abrdiged_counties`, the new cases per day per 100,000 people are calculated. "
   ]
  },
  {
   "cell_type": "code",
   "execution_count": 18,
   "metadata": {},
   "outputs": [],
   "source": [
    "state_pop = abridged_counties[['StateName', 'PopulationEstimate2018']].groupby(\"StateName\").sum()\n",
    "state_pop = state_pop.drop(['GU', 'PR', 'AS', 'MP', 'VI'])\n",
    "state_pop[\"State\"] = StayatHomeDays.index\n",
    "state_pop = state_pop.set_index(\"State\")\n",
    "for state in SevenDayStates.columns:\n",
    "    SevenDayStates[state] = SevenDayStates[state]/state_pop.loc[state][0]*100000"
   ]
  },
  {
   "cell_type": "markdown",
   "metadata": {},
   "source": [
    "### Visualizing the Outcomes of Different Stay at Home Order Reaction Times"
   ]
  },
  {
   "cell_type": "markdown",
   "metadata": {},
   "source": [
    "The now normalized `SevenDayStates` is plotted for each 2 different groups of states over time where  `EarlyActionCases` are for states that implemented stay at home orders within 12 days of the federal state of emergency declaration while the `LateActionCases` represent those that acted at least 12 days after the delceration."
   ]
  },
  {
   "cell_type": "code",
   "execution_count": 19,
   "metadata": {},
   "outputs": [
    {
     "data": {
      "image/png": "[encoded data removed]",
      "text/plain": [
       "<Figure size 792x432 with 1 Axes>"
      ]
     },
     "metadata": {},
     "output_type": "display_data"
    }
   ],
   "source": [
    "plt.figure(figsize = (11, 6))\n",
    "LateActionIndex = StayatHomeDays[StayatHomeDays[\"Stay at Home\"]>12].index\n",
    "LateActionCases = SevenDayStates.loc[:, (LateActionIndex)].T.sum()/len(LateActionIndex)\n",
    "plt.plot(LateActionCases.index, LateActionCases);\n",
    "plt.xticks([55,  71, 101], ['March 16', 'April 1', 'May 1'], rotation = 45, fontsize = 14);\n",
    "EarlyActionIndex = StayatHomeDays[StayatHomeDays[\"Stay at Home\"]<=12].index\n",
    "EarlyActionCases = SevenDayStates.loc[:, (EarlyActionIndex)].T.sum()/len(EarlyActionIndex)\n",
    "plt.plot(EarlyActionCases.index, EarlyActionCases);\n",
    "plt.xticks([55, 63, 73, 101], ['March 16', 'March 24', 'Apirl 2', 'May 1'], rotation = 45, fontsize = 14);\n",
    "plt.legend([\"Early Action States\", \"Before 12 Days\"], fontsize = 16);\n",
    "plt.annotate('Federal Guidlines\\n   Implemented', xy = (55, LateActionCases.iloc[55]), \n",
    "            xytext = (30, 5), \n",
    "            fontsize = 12,\n",
    "            arrowprops=dict(facecolor='black', shrink=0.05));\n",
    "plt.annotate('Early Action Median', xy = (63, EarlyActionCases.iloc[63]), \n",
    "            xytext = (38, 15), \n",
    "            fontsize = 12,\n",
    "            arrowprops=dict(facecolor='black', shrink=0.05));\n",
    "plt.annotate('Late Action\\n  Median', xy = (73, LateActionCases.iloc[73]), \n",
    "            xytext = (66, 10), \n",
    "            fontsize = 12,\n",
    "            arrowprops=dict(facecolor='black', shrink=0.05))\n",
    "plt.title(\"Daily COVID-19 Cases per Capita (7 Day Average)\");\n",
    "plt.ylabel(\"Daily New Cases Per 100k People\", fontsize = 14);"
   ]
  },
  {
   "cell_type": "markdown",
   "metadata": {},
   "source": [
    "Cases didn't begin growing in both groups until after federal guidelines were put in place. This feature is likely due to the limited availaiblity of testing at the beginning of the outbreak in the US. Now comparing the overall long term trends between both groups up until May 8th, the early action states appear to have reversed the growth in new cases per day (the 7 day average of new cases per capita is decreasing). The late action states, however, are still experiencing growth in new cases per capita. This trend illustrates the importance of implementing social distancing policies as soon as possible even if a large amount of cases haven't yet been confirmed in a given state. "
   ]
  },
  {
   "cell_type": "markdown",
   "metadata": {},
   "source": [
    "## Analyzing the Visualization Trends"
   ]
  },
  {
   "cell_type": "code",
   "execution_count": 20,
   "metadata": {},
   "outputs": [
    {
     "name": "stdout",
     "output_type": "stream",
     "text": [
      "Early Action States:\n",
      "Median Days after Federal Guidlines: 8.0\n",
      "Average Testing Rate: 3248.0\n",
      "Late Action States:\n",
      "Median Days after Federal Guidlines: 18.0\n",
      "Average Testing Rate: 2656.0\n"
     ]
    }
   ],
   "source": [
    "print(\"Early Action States:\")\n",
    "print( \"Median Days after Federal Guidlines:\", StayatHomeDays.loc[EarlyActionIndex].median()[0])\n",
    "print(\"Average Testing Rate:\", states_data.set_index(\"Province_State\").loc[EarlyActionIndex, \"Testing_Rate\"].mean().round())\n",
    "print(\"Late Action States:\")\n",
    "print( \"Median Days after Federal Guidlines:\", StayatHomeDays.loc[LateActionIndex].median()[0])\n",
    "print(\"Average Testing Rate:\", states_data.set_index(\"Province_State\").loc[LateActionIndex, \"Testing_Rate\"].mean().round())\n"
   ]
  },
  {
   "cell_type": "markdown",
   "metadata": {},
   "source": [
    "To further validate this result, the average testing rates for each group was calculated. For the late action states, testing rates are actually lower, which indicates that the the difference in trends is significant and that the late action curve is likely an underestimate of the actual growth in new cases per capita. "
   ]
  },
  {
   "cell_type": "code",
   "execution_count": 21,
   "metadata": {},
   "outputs": [
    {
     "name": "stdout",
     "output_type": "stream",
     "text": [
      "Early Action States: ['Alaska' 'California' 'Colorado' 'Connecticut' 'Delaware' 'Florida'\n",
      " 'Hawaii' 'Idaho' 'Illinois' 'Indiana' 'Kentucky' 'Louisiana'\n",
      " 'Massachusetts' 'Michigan' 'Minnesota' 'Montana' 'New Hampshire'\n",
      " 'New Jersey' 'New Mexico' 'New York' 'Ohio' 'Oregon' 'Rhode Island'\n",
      " 'Vermont' 'Washington' 'West Virginia' 'Wisconsin' 'Wyoming']\n",
      "Late Action States: ['Alabama' 'Arizona' 'Arkansas' 'District of Columbia' 'Georgia' 'Iowa'\n",
      " 'Kansas' 'Maine' 'Maryland' 'Mississippi' 'Missouri' 'Nebraska' 'Nevada'\n",
      " 'North Carolina' 'North Dakota' 'Oklahoma' 'Pennsylvania'\n",
      " 'South Carolina' 'South Dakota' 'Tennessee' 'Texas' 'Utah' 'Virginia']\n"
     ]
    }
   ],
   "source": [
    "print(\"Early Action States:\", np.array(EarlyActionIndex))\n",
    "print(\"Late Action States:\", np.array(LateActionIndex))"
   ]
  },
  {
   "cell_type": "markdown",
   "metadata": {},
   "source": [
    "Another key difference between the two groups of states lies in the magnitude of the growth rates. The early action states experienced a larger and overall peak in daily cases per capita lending to higher overall infections rates compared to the later action states. Looking at a the states in the early action group, there are more of the densely populated states such as New York, New Jersey, and California, which would be expected to have higher infection rates given their higher population densities espeically with a  disease such as contagious as COVID-19. However, further analysis would be requried to identify more of the key features that have led to this difference. \n",
    "\n",
    "The late action states may have felt less of an incentive to enact strict social distancing orders given their slower climb in cases; however, the overall trend shows the danger of choosing a reactive approach compared to a proactive approach. With several states now considering reopening, the effect that strict social distancing has had in states where we have seen a large reduction in cases should be considered before these decisions are made. The abseence of swift stay at home orders has shown appreciable reductions in cases over time, so the opposite will likley be true if swiftness is applied in relaxing these restrictions."
   ]
  },
  {
   "cell_type": "code",
   "execution_count": 22,
   "metadata": {},
   "outputs": [
    {
     "data": {
      "text/html": [
       "<script src=\"https://cdn.rawgit.com/parente/4c3e6936d0d7a46fd071/raw/65b816fb9bdd3c28b4ddf3af602bfd6015486383/code_toggle.js\"></script>\n"
      ],
      "text/plain": [
       "<IPython.core.display.HTML object>"
      ]
     },
     "metadata": {},
     "output_type": "display_data"
    }
   ],
   "source": [
    "%%html\n",
    "<script src=\"https://cdn.rawgit.com/parente/4c3e6936d0d7a46fd071/raw/65b816fb9bdd3c28b4ddf3af602bfd6015486383/code_toggle.js\"></script>"
   ]
  }
 ],
 "metadata": {
  "kernelspec": {
   "display_name": "Python 3",
   "language": "python",
   "name": "python3"
  },
  "language_info": {
   "codemirror_mode": {
    "name": "ipython",
    "version": 3
   },
   "file_extension": ".py",
   "mimetype": "text/x-python",
   "name": "python",
   "nbconvert_exporter": "python",
   "pygments_lexer": "ipython3",
   "version": "3.7.6"
  }
 },
 "nbformat": 4,
 "nbformat_minor": 4
}
